{
 "cells": [
  {
   "cell_type": "code",
   "execution_count": 1,
   "id": "85afae35",
   "metadata": {},
   "outputs": [],
   "source": [
    "from pyspark.sql.types import *\n",
    "from pyspark.sql import SparkSession\n",
    "from pyspark.sql.types import StructType, IntegerType, StringType"
   ]
  },
  {
   "cell_type": "code",
   "execution_count": 2,
   "id": "5acf4f22",
   "metadata": {},
   "outputs": [],
   "source": [
    "spark = SparkSession.builder.appName(\"JSON Conversion\").getOrCreate()"
   ]
  },
  {
   "cell_type": "code",
   "execution_count": 4,
   "id": "ea7347b2",
   "metadata": {},
   "outputs": [],
   "source": [
    "df=spark.read.json('fully.json')"
   ]
  },
  {
   "cell_type": "code",
   "execution_count": 5,
   "id": "7c01fc26",
   "metadata": {},
   "outputs": [],
   "source": [
    "from pyspark.sql.functions import col"
   ]
  },
  {
   "cell_type": "code",
   "execution_count": 6,
   "id": "31cbd4fe",
   "metadata": {},
   "outputs": [],
   "source": [
    "df = df.withColumn(\"userId\", col(\"userId\").cast(\"int\"))\n",
    "df = df.withColumn(\"timestamp\", col(\"timestamp\").cast(\"bigint\"))\n",
    "df = df.withColumn(\"rank\", col(\"rank\").cast(\"float\"))\n",
    "df = df.withColumn(\"rating\", col(\"rating\").cast(\"double\"))"
   ]
  },
  {
   "cell_type": "code",
   "execution_count": 9,
   "id": "fa3869a9",
   "metadata": {},
   "outputs": [],
   "source": [
    "df.coalesce(1).write.json('fully_final.json', mode=\"overwrite\")"
   ]
  },
  {
   "cell_type": "code",
   "execution_count": null,
   "id": "a8967200",
   "metadata": {},
   "outputs": [],
   "source": []
  }
 ],
 "metadata": {
  "kernelspec": {
   "display_name": "Python 3 (ipykernel)",
   "language": "python",
   "name": "python3"
  },
  "language_info": {
   "codemirror_mode": {
    "name": "ipython",
    "version": 3
   },
   "file_extension": ".py",
   "mimetype": "text/x-python",
   "name": "python",
   "nbconvert_exporter": "python",
   "pygments_lexer": "ipython3",
   "version": "3.11.4"
  }
 },
 "nbformat": 4,
 "nbformat_minor": 5
}
