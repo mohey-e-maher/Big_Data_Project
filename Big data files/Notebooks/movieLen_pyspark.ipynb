{
 "cells": [
  {
   "cell_type": "code",
   "execution_count": null,
   "id": "3f45b3d3",
   "metadata": {},
   "outputs": [],
   "source": [
    "from pyspark.sql.types import *"
   ]
  },
  {
   "cell_type": "code",
   "execution_count": 2,
   "id": "9b34b8e2",
   "metadata": {},
   "outputs": [
    {
     "name": "stdout",
     "output_type": "stream",
     "text": [
      "+-------+--------------------+--------------------+\n",
      "|movieId|               title|              genres|\n",
      "+-------+--------------------+--------------------+\n",
      "|      1|    Toy Story (1995)|Adventure|Animati...|\n",
      "|      2|      Jumanji (1995)|Adventure|Childre...|\n",
      "|      3|Grumpier Old Men ...|      Comedy|Romance|\n",
      "|      4|Waiting to Exhale...|Comedy|Drama|Romance|\n",
      "|      5|Father of the Bri...|              Comedy|\n",
      "|      6|         Heat (1995)|Action|Crime|Thri...|\n",
      "|      7|      Sabrina (1995)|      Comedy|Romance|\n",
      "|      8| Tom and Huck (1995)|  Adventure|Children|\n",
      "|      9| Sudden Death (1995)|              Action|\n",
      "|     10|    GoldenEye (1995)|Action|Adventure|...|\n",
      "|     11|American Presiden...|Comedy|Drama|Romance|\n",
      "|     12|Dracula: Dead and...|       Comedy|Horror|\n",
      "|     13|        Balto (1995)|Adventure|Animati...|\n",
      "|     14|        Nixon (1995)|               Drama|\n",
      "|     15|Cutthroat Island ...|Action|Adventure|...|\n",
      "|     16|       Casino (1995)|         Crime|Drama|\n",
      "|     17|Sense and Sensibi...|       Drama|Romance|\n",
      "|     18|   Four Rooms (1995)|              Comedy|\n",
      "|     19|Ace Ventura: When...|              Comedy|\n",
      "|     20|  Money Train (1995)|Action|Comedy|Cri...|\n",
      "+-------+--------------------+--------------------+\n",
      "only showing top 20 rows\n",
      "\n"
     ]
    }
   ],
   "source": [
    "from pyspark.sql import SparkSession\n",
    "from pyspark.sql.types import StructType, IntegerType, StringType\n",
    "\n",
    "# Create a Spark session\n",
    "spark = SparkSession.builder.appName(\"MovieLensAnalysis\").getOrCreate()\n",
    "\n",
    "# Define the schema to ensure each columns has suitable type\n",
    "schema = StructType().add('movieId', IntegerType()).add('title', StringType()).add('genres', StringType())\n",
    "\n",
    "# Load the MovieLens dataset\n",
    "movie_df = spark.read.csv('movies.csv', schema=schema, header=True)\n",
    "\n",
    "# Show the DataFrame\n",
    "movie_df.show()\n"
   ]
  },
  {
   "cell_type": "code",
   "execution_count": 3,
   "id": "bca6d524",
   "metadata": {},
   "outputs": [
    {
     "name": "stdout",
     "output_type": "stream",
     "text": [
      "+-------+--------------------+---------+\n",
      "|movieId|               title|   genres|\n",
      "+-------+--------------------+---------+\n",
      "|      1|    Toy Story (1995)|Adventure|\n",
      "|      1|    Toy Story (1995)|Animation|\n",
      "|      1|    Toy Story (1995)| Children|\n",
      "|      1|    Toy Story (1995)|   Comedy|\n",
      "|      1|    Toy Story (1995)|  Fantasy|\n",
      "|      2|      Jumanji (1995)|Adventure|\n",
      "|      2|      Jumanji (1995)| Children|\n",
      "|      2|      Jumanji (1995)|  Fantasy|\n",
      "|      3|Grumpier Old Men ...|   Comedy|\n",
      "|      3|Grumpier Old Men ...|  Romance|\n",
      "|      4|Waiting to Exhale...|   Comedy|\n",
      "|      4|Waiting to Exhale...|    Drama|\n",
      "|      4|Waiting to Exhale...|  Romance|\n",
      "|      5|Father of the Bri...|   Comedy|\n",
      "|      6|         Heat (1995)|   Action|\n",
      "|      6|         Heat (1995)|    Crime|\n",
      "|      6|         Heat (1995)| Thriller|\n",
      "|      7|      Sabrina (1995)|   Comedy|\n",
      "|      7|      Sabrina (1995)|  Romance|\n",
      "|      8| Tom and Huck (1995)|Adventure|\n",
      "+-------+--------------------+---------+\n",
      "only showing top 20 rows\n",
      "\n"
     ]
    }
   ],
   "source": [
    "# transformation on dataset\n",
    "from pyspark.sql.functions import split ,explode\n",
    "movie_df = movie_df.withColumn('genres',explode(split('genres','[|]')))\n",
    "movie_df.show()"
   ]
  },
  {
   "cell_type": "markdown",
   "id": "379cca51",
   "metadata": {},
   "source": [
    "#### 1- withColumn: is used when need to apply condition on the column ,if the column exist will apply the condtion ,\n",
    "####  if not it will create the new column and apply the condition\n",
    "\n",
    "\n",
    "#### 2 - explode: used to transform any array or map column into multiple rows with  one row (means when film contain more than one genre will be duplicate for each genre\n",
    "\n",
    "#### --> we split genre by [|]"
   ]
  },
  {
   "cell_type": "code",
   "execution_count": 5,
   "id": "8cd51307",
   "metadata": {},
   "outputs": [
    {
     "name": "stdout",
     "output_type": "stream",
     "text": [
      "+------------------+-----+\n",
      "|            genres|count|\n",
      "+------------------+-----+\n",
      "|             Crime| 1199|\n",
      "|           Romance| 1596|\n",
      "|          Thriller| 1894|\n",
      "|         Adventure| 1263|\n",
      "|             Drama| 4361|\n",
      "|               War|  382|\n",
      "|       Documentary|  440|\n",
      "|           Fantasy|  779|\n",
      "|           Mystery|  573|\n",
      "|           Musical|  334|\n",
      "|         Animation|  611|\n",
      "|         Film-Noir|   87|\n",
      "|(no genres listed)|   34|\n",
      "|              IMAX|  158|\n",
      "|            Horror|  978|\n",
      "|           Western|  167|\n",
      "|            Comedy| 3756|\n",
      "|          Children|  664|\n",
      "|            Action| 1828|\n",
      "|            Sci-Fi|  980|\n",
      "+------------------+-----+\n",
      "\n"
     ]
    }
   ],
   "source": [
    "# count number of movies accroding to genre\n",
    "movie_df.groupBy('genres').count().show()"
   ]
  },
  {
   "cell_type": "code",
   "execution_count": 6,
   "id": "28ad4ea4",
   "metadata": {},
   "outputs": [
    {
     "name": "stdout",
     "output_type": "stream",
     "text": [
      "root\n",
      " |-- movieId: integer (nullable = true)\n",
      " |-- title: string (nullable = true)\n",
      " |-- genres: string (nullable = true)\n",
      "\n",
      "+-------+--------------------+---------+\n",
      "|movieId|               title|   genres|\n",
      "+-------+--------------------+---------+\n",
      "|      1|    Toy Story (1995)|Adventure|\n",
      "|      1|    Toy Story (1995)|Animation|\n",
      "|      1|    Toy Story (1995)| Children|\n",
      "|      1|    Toy Story (1995)|   Comedy|\n",
      "|      1|    Toy Story (1995)|  Fantasy|\n",
      "|      2|      Jumanji (1995)|Adventure|\n",
      "|      2|      Jumanji (1995)| Children|\n",
      "|      2|      Jumanji (1995)|  Fantasy|\n",
      "|      3|Grumpier Old Men ...|   Comedy|\n",
      "|      3|Grumpier Old Men ...|  Romance|\n",
      "|      4|Waiting to Exhale...|   Comedy|\n",
      "|      4|Waiting to Exhale...|    Drama|\n",
      "|      4|Waiting to Exhale...|  Romance|\n",
      "|      5|Father of the Bri...|   Comedy|\n",
      "|      6|         Heat (1995)|   Action|\n",
      "|      6|         Heat (1995)|    Crime|\n",
      "|      6|         Heat (1995)| Thriller|\n",
      "|      7|      Sabrina (1995)|   Comedy|\n",
      "|      7|      Sabrina (1995)|  Romance|\n",
      "|      8| Tom and Huck (1995)|Adventure|\n",
      "+-------+--------------------+---------+\n",
      "only showing top 20 rows\n",
      "\n"
     ]
    }
   ],
   "source": [
    "movie_df.printSchema()\n",
    "movie_df.show()\n"
   ]
  },
  {
   "cell_type": "code",
   "execution_count": 7,
   "id": "377e4a61",
   "metadata": {},
   "outputs": [
    {
     "name": "stdout",
     "output_type": "stream",
     "text": [
      "+------------------+-----+\n",
      "|            genres|count|\n",
      "+------------------+-----+\n",
      "|             Crime| 1199|\n",
      "|           Romance| 1596|\n",
      "|          Thriller| 1894|\n",
      "|         Adventure| 1263|\n",
      "|             Drama| 4361|\n",
      "|               War|  382|\n",
      "|       Documentary|  440|\n",
      "|           Fantasy|  779|\n",
      "|           Mystery|  573|\n",
      "|           Musical|  334|\n",
      "|         Animation|  611|\n",
      "|         Film-Noir|   87|\n",
      "|(no genres listed)|   34|\n",
      "|              IMAX|  158|\n",
      "|            Horror|  978|\n",
      "|           Western|  167|\n",
      "|            Comedy| 3756|\n",
      "|          Children|  664|\n",
      "|            Action| 1828|\n",
      "|            Sci-Fi|  980|\n",
      "+------------------+-----+\n",
      "\n"
     ]
    }
   ],
   "source": [
    "# count movies accroding genres\n",
    "movie_df.groupBy('genres').count().show()"
   ]
  },
  {
   "cell_type": "code",
   "execution_count": 8,
   "id": "24c4cebc",
   "metadata": {},
   "outputs": [
    {
     "name": "stdout",
     "output_type": "stream",
     "text": [
      "+-------+--------------------+------------------+\n",
      "|movieId|               title|            genres|\n",
      "+-------+--------------------+------------------+\n",
      "| 114335|   La cravate (1957)|(no genres listed)|\n",
      "| 122888|      Ben-hur (2016)|(no genres listed)|\n",
      "| 122896|Pirates of the Ca...|(no genres listed)|\n",
      "| 129250|   Superfast! (2015)|(no genres listed)|\n",
      "| 132084| Let It Be Me (1995)|(no genres listed)|\n",
      "| 134861|Trevor Noah: Afri...|(no genres listed)|\n",
      "| 141131|    Guardians (2016)|(no genres listed)|\n",
      "| 141866|   Green Room (2015)|(no genres listed)|\n",
      "| 142456|The Brand New Tes...|(no genres listed)|\n",
      "| 143410|          Hyena Road|(no genres listed)|\n",
      "| 147250|The Adventures of...|(no genres listed)|\n",
      "| 149330|A Cosmic Christma...|(no genres listed)|\n",
      "| 152037|  Grease Live (2016)|(no genres listed)|\n",
      "| 155589|Noin 7 veljestä (...|(no genres listed)|\n",
      "| 156605|            Paterson|(no genres listed)|\n",
      "| 159161|Ali Wong: Baby Co...|(no genres listed)|\n",
      "| 159779|A Midsummer Night...|(no genres listed)|\n",
      "| 161008|The Forbidden Dan...|(no genres listed)|\n",
      "| 165489|Ethel & Ernest (2...|(no genres listed)|\n",
      "| 166024|     Whiplash (2013)|(no genres listed)|\n",
      "+-------+--------------------+------------------+\n",
      "only showing top 20 rows\n",
      "\n"
     ]
    }
   ],
   "source": [
    "movie_df.filter(movie_df.genres ==\"(no genres listed)\").show()\n",
    "# check if there movies with no specified genre"
   ]
  },
  {
   "cell_type": "code",
   "execution_count": 9,
   "id": "7952bbff",
   "metadata": {},
   "outputs": [
    {
     "name": "stdout",
     "output_type": "stream",
     "text": [
      "+-------+--------------------+---------+\n",
      "|movieId|               title|   genres|\n",
      "+-------+--------------------+---------+\n",
      "|      1|    Toy Story (1995)|Adventure|\n",
      "|      1|    Toy Story (1995)|Animation|\n",
      "|      1|    Toy Story (1995)| Children|\n",
      "|      1|    Toy Story (1995)|   Comedy|\n",
      "|      1|    Toy Story (1995)|  Fantasy|\n",
      "|      2|      Jumanji (1995)|Adventure|\n",
      "|      2|      Jumanji (1995)| Children|\n",
      "|      2|      Jumanji (1995)|  Fantasy|\n",
      "|      3|Grumpier Old Men ...|   Comedy|\n",
      "|      3|Grumpier Old Men ...|  Romance|\n",
      "|      4|Waiting to Exhale...|   Comedy|\n",
      "|      4|Waiting to Exhale...|    Drama|\n",
      "|      4|Waiting to Exhale...|  Romance|\n",
      "|      5|Father of the Bri...|   Comedy|\n",
      "|      6|         Heat (1995)|   Action|\n",
      "|      6|         Heat (1995)|    Crime|\n",
      "|      6|         Heat (1995)| Thriller|\n",
      "|      7|      Sabrina (1995)|   Comedy|\n",
      "|      7|      Sabrina (1995)|  Romance|\n",
      "|      8| Tom and Huck (1995)|Adventure|\n",
      "+-------+--------------------+---------+\n",
      "only showing top 20 rows\n",
      "\n"
     ]
    }
   ],
   "source": [
    "# replace missng genere with unknown\n",
    "from pyspark.sql.functions import when\n",
    "movie_df = movie_df.withColumn('genres',when(movie_df.genres ==\"(no genres listed)\",\"Unknown\").otherwise(movie_df.genres))\n",
    "movie_df.show()"
   ]
  },
  {
   "cell_type": "code",
   "execution_count": 10,
   "id": "3d094462",
   "metadata": {},
   "outputs": [
    {
     "name": "stdout",
     "output_type": "stream",
     "text": [
      "+-------+-----+------+\n",
      "|movieId|title|genres|\n",
      "+-------+-----+------+\n",
      "+-------+-----+------+\n",
      "\n"
     ]
    }
   ],
   "source": [
    "movie_df.filter(movie_df.genres ==\"(no genres listed)\").show()\n",
    "# check if there movies with no specified genre"
   ]
  },
  {
   "cell_type": "markdown",
   "id": "ed948fe7",
   "metadata": {},
   "source": [
    "## Rating Dataset"
   ]
  },
  {
   "cell_type": "code",
   "execution_count": 11,
   "id": "01ffaac7",
   "metadata": {},
   "outputs": [
    {
     "name": "stdout",
     "output_type": "stream",
     "text": [
      "+------+-------+------+---------+\n",
      "|userId|movieId|rating|timestamp|\n",
      "+------+-------+------+---------+\n",
      "|     1|      1|   4.0|964982703|\n",
      "|     1|      3|   4.0|964981247|\n",
      "|     1|      6|   4.0|964982224|\n",
      "|     1|     47|   5.0|964983815|\n",
      "|     1|     50|   5.0|964982931|\n",
      "|     1|     70|   3.0|964982400|\n",
      "|     1|    101|   5.0|964980868|\n",
      "|     1|    110|   4.0|964982176|\n",
      "|     1|    151|   5.0|964984041|\n",
      "|     1|    157|   5.0|964984100|\n",
      "|     1|    163|   5.0|964983650|\n",
      "|     1|    216|   5.0|964981208|\n",
      "|     1|    223|   3.0|964980985|\n",
      "|     1|    231|   5.0|964981179|\n",
      "|     1|    235|   4.0|964980908|\n",
      "|     1|    260|   5.0|964981680|\n",
      "|     1|    296|   3.0|964982967|\n",
      "|     1|    316|   3.0|964982310|\n",
      "|     1|    333|   5.0|964981179|\n",
      "|     1|    349|   4.0|964982563|\n",
      "+------+-------+------+---------+\n",
      "only showing top 20 rows\n",
      "\n"
     ]
    }
   ],
   "source": [
    "rating_df = spark.read.csv('ratings.csv',header = True)\n",
    "rating_df.show()"
   ]
  },
  {
   "cell_type": "markdown",
   "id": "ebdb6a90",
   "metadata": {},
   "source": [
    "### merging the two dataset"
   ]
  },
  {
   "cell_type": "code",
   "execution_count": 12,
   "id": "42929908",
   "metadata": {},
   "outputs": [
    {
     "name": "stdout",
     "output_type": "stream",
     "text": [
      "+-------+--------------------+---------+------+------+---------+\n",
      "|movieId|               title|   genres|userId|rating|timestamp|\n",
      "+-------+--------------------+---------+------+------+---------+\n",
      "|      1|    Toy Story (1995)|  Fantasy|     1|   4.0|964982703|\n",
      "|      1|    Toy Story (1995)|   Comedy|     1|   4.0|964982703|\n",
      "|      1|    Toy Story (1995)| Children|     1|   4.0|964982703|\n",
      "|      1|    Toy Story (1995)|Animation|     1|   4.0|964982703|\n",
      "|      1|    Toy Story (1995)|Adventure|     1|   4.0|964982703|\n",
      "|      3|Grumpier Old Men ...|  Romance|     1|   4.0|964981247|\n",
      "|      3|Grumpier Old Men ...|   Comedy|     1|   4.0|964981247|\n",
      "|      6|         Heat (1995)| Thriller|     1|   4.0|964982224|\n",
      "|      6|         Heat (1995)|    Crime|     1|   4.0|964982224|\n",
      "|      6|         Heat (1995)|   Action|     1|   4.0|964982224|\n",
      "|     47|Seven (a.k.a. Se7...| Thriller|     1|   5.0|964983815|\n",
      "|     47|Seven (a.k.a. Se7...|  Mystery|     1|   5.0|964983815|\n",
      "|     50|Usual Suspects, T...| Thriller|     1|   5.0|964982931|\n",
      "|     50|Usual Suspects, T...|  Mystery|     1|   5.0|964982931|\n",
      "|     50|Usual Suspects, T...|    Crime|     1|   5.0|964982931|\n",
      "|     70|From Dusk Till Da...| Thriller|     1|   3.0|964982400|\n",
      "|     70|From Dusk Till Da...|   Horror|     1|   3.0|964982400|\n",
      "|     70|From Dusk Till Da...|   Comedy|     1|   3.0|964982400|\n",
      "|     70|From Dusk Till Da...|   Action|     1|   3.0|964982400|\n",
      "|    101|Bottle Rocket (1996)|  Romance|     1|   5.0|964980868|\n",
      "+-------+--------------------+---------+------+------+---------+\n",
      "only showing top 20 rows\n",
      "\n"
     ]
    }
   ],
   "source": [
    "df = movie_df.join(rating_df, movie_df.movieId ==rating_df.movieId).drop(rating_df.movieId)\n",
    "df.show()"
   ]
  },
  {
   "cell_type": "markdown",
   "id": "d90b6661",
   "metadata": {},
   "source": [
    "#### the issue in the above result , the same movie  has more than one genre"
   ]
  },
  {
   "cell_type": "code",
   "execution_count": 13,
   "id": "b1f2d7b1",
   "metadata": {},
   "outputs": [
    {
     "name": "stdout",
     "output_type": "stream",
     "text": [
      "+-------+--------------------+---------+------+------+---------+----+\n",
      "|movieId|               title|   genres|userId|rating|timestamp|rank|\n",
      "+-------+--------------------+---------+------+------+---------+----+\n",
      "|   1127|   Abyss, The (1989)| Thriller|     1|   4.0|964982513|   1|\n",
      "|   1127|   Abyss, The (1989)|   Sci-Fi|     1|   4.0|964982513|   2|\n",
      "|   1127|   Abyss, The (1989)|Adventure|     1|   4.0|964982513|   3|\n",
      "|   1127|   Abyss, The (1989)|   Action|     1|   4.0|964982513|   4|\n",
      "|    940|Adventures of Rob...|  Romance|     1|   5.0|964982176|   1|\n",
      "|    940|Adventures of Rob...|Adventure|     1|   5.0|964982176|   2|\n",
      "|    940|Adventures of Rob...|   Action|     1|   5.0|964982176|   3|\n",
      "|    101|Bottle Rocket (1996)|  Romance|     1|   5.0|964980868|   1|\n",
      "|    101|Bottle Rocket (1996)|    Crime|     1|   5.0|964980868|   2|\n",
      "|    101|Bottle Rocket (1996)|   Comedy|     1|   5.0|964980868|   3|\n",
      "|    101|Bottle Rocket (1996)|Adventure|     1|   5.0|964980868|   4|\n",
      "|   2291|Edward Scissorhan...|  Romance|     1|   5.0|964983664|   1|\n",
      "|   2291|Edward Scissorhan...|  Fantasy|     1|   5.0|964983664|   2|\n",
      "|   2291|Edward Scissorhan...|    Drama|     1|   5.0|964983664|   3|\n",
      "|   3243|   Encino Man (1992)|   Comedy|     1|   3.0|964981093|   1|\n",
      "|    356| Forrest Gump (1994)|      War|     1|   4.0|964980962|   1|\n",
      "|    356| Forrest Gump (1994)|  Romance|     1|   4.0|964980962|   2|\n",
      "|    356| Forrest Gump (1994)|    Drama|     1|   4.0|964980962|   3|\n",
      "|    356| Forrest Gump (1994)|   Comedy|     1|   4.0|964980962|   4|\n",
      "|    943|Ghost and Mrs. Mu...|  Romance|     1|   4.0|964983614|   1|\n",
      "+-------+--------------------+---------+------+------+---------+----+\n",
      "only showing top 20 rows\n",
      "\n"
     ]
    }
   ],
   "source": [
    "from pyspark.sql import Window\n",
    "from pyspark.sql.functions import row_number\n",
    "filter_df = df.withColumn('rank',row_number().over(Window.partitionBy('userId', 'title').orderBy(df['rating'].desc())))\n",
    "filter_df.show()"
   ]
  },
  {
   "cell_type": "code",
   "execution_count": 14,
   "id": "39bf2c86",
   "metadata": {},
   "outputs": [
    {
     "name": "stdout",
     "output_type": "stream",
     "text": [
      "+-------+--------------------+--------+------+------+---------+----+\n",
      "|movieId|               title|  genres|userId|rating|timestamp|rank|\n",
      "+-------+--------------------+--------+------+------+---------+----+\n",
      "|   1127|   Abyss, The (1989)|Thriller|     1|   4.0|964982513|   1|\n",
      "|    940|Adventures of Rob...| Romance|     1|   5.0|964982176|   1|\n",
      "|    101|Bottle Rocket (1996)| Romance|     1|   5.0|964980868|   1|\n",
      "|   2291|Edward Scissorhan...| Romance|     1|   5.0|964983664|   1|\n",
      "|   3243|   Encino Man (1992)|  Comedy|     1|   3.0|964981093|   1|\n",
      "|    356| Forrest Gump (1994)|     War|     1|   4.0|964980962|   1|\n",
      "|    943|Ghost and Mrs. Mu...| Romance|     1|   4.0|964983614|   1|\n",
      "|   3578|    Gladiator (2000)|   Drama|     1|   5.0|964980668|   1|\n",
      "|   2338|I Still Know What...|Thriller|     1|   2.0|964983546|   1|\n",
      "|   2000|Lethal Weapon (1987)|   Drama|     1|   4.0|964982211|   1|\n",
      "|   2991|Live and Let Die ...|Thriller|     1|   5.0|964982271|   1|\n",
      "|   2116|Lord of the Rings...| Fantasy|     1|   5.0|964982876|   1|\n",
      "|   1580|Men in Black (a.k...|  Sci-Fi|     1|   3.0|964981125|   1|\n",
      "|   1226|Quiet Man, The (1...| Romance|     1|   5.0|964983618|   1|\n",
      "|   2273|    Rush Hour (1998)|Thriller|     1|   4.0|964982310|   1|\n",
      "|   1396|     Sneakers (1992)|  Sci-Fi|     1|   3.0|964983017|   1|\n",
      "|    673|    Space Jam (1996)|  Sci-Fi|     1|   3.0|964981775|   1|\n",
      "|   2641|  Superman II (1980)|  Sci-Fi|     1|   5.0|964982620|   1|\n",
      "|   3176|Talented Mr. Ripl...|Thriller|     1|   1.0|964983504|   1|\n",
      "|   1240|Terminator, The (...|Thriller|     1|   5.0|964983723|   1|\n",
      "+-------+--------------------+--------+------+------+---------+----+\n",
      "only showing top 20 rows\n",
      "\n"
     ]
    }
   ],
   "source": [
    "# get the movies based on rank\n",
    "filter_df = filter_df.filter(filter_df.rank == 1)\n",
    "filter_df.show()"
   ]
  },
  {
   "cell_type": "markdown",
   "id": "0a00021e",
   "metadata": {},
   "source": [
    "### Find highly rated movie "
   ]
  },
  {
   "cell_type": "code",
   "execution_count": 15,
   "id": "359c5eda",
   "metadata": {},
   "outputs": [
    {
     "name": "stdout",
     "output_type": "stream",
     "text": [
      "+--------------------+----------+\n",
      "|               title|max_rating|\n",
      "+--------------------+----------+\n",
      "|\"11'09\"\"01 - Sept...|       4.0|\n",
      "|          '71 (2014)|       4.0|\n",
      "|'Hellboy': The Se...|       4.0|\n",
      "|'Round Midnight (...|       3.5|\n",
      "| 'Salem's Lot (2004)|       5.0|\n",
      "|'Til There Was Yo...|       5.0|\n",
      "|'Tis the Season f...|       1.5|\n",
      "|  'burbs, The (1989)|       5.0|\n",
      "|'night Mother (1986)|       3.0|\n",
      "|(500) Days of Sum...|       5.0|\n",
      "|*batteries not in...|       4.0|\n",
      "|...All the Marble...|       2.0|\n",
      "|...And Justice fo...|       4.0|\n",
      "|00 Schneider - Ja...|       4.5|\n",
      "|   1-900 (06) (1994)|       4.0|\n",
      "|           10 (1979)|       4.5|\n",
      "|10 Cent Pistol (2...|       2.0|\n",
      "|10 Cloverfield La...|       5.0|\n",
      "|10 Items or Less ...|       3.5|\n",
      "|10 Things I Hate ...|       5.0|\n",
      "+--------------------+----------+\n",
      "only showing top 20 rows\n",
      "\n"
     ]
    }
   ],
   "source": [
    "from pyspark.sql.functions import max\n",
    "most_highly_rated_movie = filter_df.groupBy('title').agg(max('rating').alias('max_rating'))\n",
    "most_highly_rated_movie.show()"
   ]
  },
  {
   "cell_type": "markdown",
   "id": "5b0dd365",
   "metadata": {},
   "source": [
    "### worst movie rating"
   ]
  },
  {
   "cell_type": "code",
   "execution_count": 16,
   "id": "a0b14b8a",
   "metadata": {},
   "outputs": [
    {
     "name": "stdout",
     "output_type": "stream",
     "text": [
      "+-------+--------------------+------+------+------+----------+----+\n",
      "|movieId|               title|genres|userId|rating| timestamp|rank|\n",
      "+-------+--------------------+------+------+------+----------+----+\n",
      "|     31|Dangerous Minds (...| Drama|     3|   0.5|1306463578|   1|\n",
      "+-------+--------------------+------+------+------+----------+----+\n",
      "\n"
     ]
    }
   ],
   "source": [
    "worst_rated_movies = df.withColumn('rank',row_number().over(Window.orderBy(df['rating'])))\n",
    "worst_rated_movie = worst_rated_movies.filter(worst_rated_movies['rank']==1)\n",
    "worst_rated_movie.show()"
   ]
  },
  {
   "cell_type": "code",
   "execution_count": 17,
   "id": "f44bdfdf",
   "metadata": {},
   "outputs": [
    {
     "name": "stdout",
     "output_type": "stream",
     "text": [
      "+-------+--------------------+---------+------+------+----------+----+\n",
      "|movieId|               title|   genres|userId|rating| timestamp|rank|\n",
      "+-------+--------------------+---------+------+------+----------+----+\n",
      "|   1093|   Doors, The (1991)|    Drama|     3|   0.5|1306463627|   1|\n",
      "|   2090|Rescuers, The (1977)|Adventure|     3|   0.5|1306464261|   2|\n",
      "|   1124|On Golden Pond (1...|    Drama|     3|   0.5|1306464216|   3|\n",
      "|   1263|Deer Hunter, The ...|      War|     3|   0.5|1306463569|   4|\n",
      "|   2090|Rescuers, The (1977)|Animation|     3|   0.5|1306464261|   5|\n",
      "|   1263|Deer Hunter, The ...|    Drama|     3|   0.5|1306463569|   6|\n",
      "|     31|Dangerous Minds (...|    Drama|     3|   0.5|1306463578|   7|\n",
      "|   1272|       Patton (1970)|      War|     3|   0.5|1306463624|   8|\n",
      "|    527|Schindler's List ...|    Drama|     3|   0.5|1306464275|   9|\n",
      "|   1272|       Patton (1970)|    Drama|     3|   0.5|1306463624|  10|\n",
      "|    647|Courage Under Fir...|    Drama|     3|   0.5|1306463619|  11|\n",
      "|   1302|Field of Dreams (...|  Fantasy|     3|   0.5|1306464189|  12|\n",
      "|    647|Courage Under Fir...|   Action|     3|   0.5|1306463619|  13|\n",
      "|   1302|Field of Dreams (...|    Drama|     3|   0.5|1306464189|  14|\n",
      "|    688|Operation Dumbo D...|   Comedy|     3|   0.5|1306464228|  15|\n",
      "|   1302|Field of Dreams (...| Children|     3|   0.5|1306464189|  16|\n",
      "|    688|Operation Dumbo D...|   Action|     3|   0.5|1306464228|  17|\n",
      "|   2018|        Bambi (1942)|    Drama|     3|   0.5|1306464175|  18|\n",
      "|    720|Wallace & Gromit:...|Animation|     3|   0.5|1306463595|  19|\n",
      "|   2018|        Bambi (1942)| Children|     3|   0.5|1306464175|  20|\n",
      "+-------+--------------------+---------+------+------+----------+----+\n",
      "only showing top 20 rows\n",
      "\n"
     ]
    }
   ],
   "source": [
    "worst_rated_movies.show()"
   ]
  },
  {
   "cell_type": "code",
   "execution_count": null,
   "id": "b441dbf2",
   "metadata": {},
   "outputs": [],
   "source": []
  }
 ],
 "metadata": {
  "kernelspec": {
   "display_name": "Python 3 (ipykernel)",
   "language": "python",
   "name": "python3"
  },
  "language_info": {
   "codemirror_mode": {
    "name": "ipython",
    "version": 3
   },
   "file_extension": ".py",
   "mimetype": "text/x-python",
   "name": "python",
   "nbconvert_exporter": "python",
   "pygments_lexer": "ipython3",
   "version": "3.11.4"
  }
 },
 "nbformat": 4,
 "nbformat_minor": 5
}
